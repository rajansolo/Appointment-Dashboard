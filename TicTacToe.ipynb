{
  "cells": [
    {
      "cell_type": "markdown",
      "metadata": {
        "id": "view-in-github",
        "colab_type": "text"
      },
      "source": [
        "<a href=\"https://colab.research.google.com/github/rajansolo/Appointment-Dashboard/blob/master/TicTacToe.ipynb\" target=\"_parent\"><img src=\"https://colab.research.google.com/assets/colab-badge.svg\" alt=\"Open In Colab\"/></a>"
      ]
    },
    {
      "cell_type": "code",
      "source": [
        "def display_board(board):\n",
        "    for row in board:\n",
        "        print(' | '.join(row))\n",
        "        print(' __ __ __')\n",
        "        print('')\n",
        "\n",
        "        \n",
        "def check_win(board):\n",
        "    \n",
        "    for row in board:\n",
        "        if row[0] == row[1]==row[2] != ' ':\n",
        "            return True\n",
        "    \n",
        "    \n",
        "    #check column  \n",
        "    for col in range(3):\n",
        "        if board[0][col] == board[1][col] == board[2][col] != ' ':\n",
        "            return True\n",
        "        \n",
        "    #check diagonal posibility \n",
        "    if board[0][1] == board[1][1] == board[2][2] != ' ':\n",
        "        return True\n",
        "    if board[0][2] == board[1][1] == board[2][0] != ' ':\n",
        "        return True\n",
        "    \n",
        "    return False\n",
        "\n",
        "def get_player_input(player,board):\n",
        "    print(f\"Player {player}'s trun\")\n",
        "    row = int(input(\"Enter the row (0-2): \"))\n",
        "    col = int(input(\"Enter the col (0-2): \"))\n",
        "    if board[row][col] == ' ':\n",
        "        return row, col\n",
        "    \n",
        "    else:\n",
        "        print(\"Invalid move. Try again.\")\n",
        "        return get_player_input(player, board)\n",
        "\n",
        "\n",
        "def play_game():\n",
        "    board = [[' ', ' ', ' '], [' ', ' ', ' '], [' ', ' ', ' ']]\n",
        "    current_player = 'X'\n",
        "\n",
        "    while True:\n",
        "        display_board(board)\n",
        "        row, col = get_player_input(current_player, board)\n",
        "\n",
        "        board[row][col] = current_player\n",
        "\n",
        "        if check_win(board):\n",
        "            display_board(board)\n",
        "            print(f\"Player {current_player} wins!\")\n",
        "            break\n",
        "\n",
        "        elif all(board[i][j] != ' ' for i in range(3) for j in range(3)):\n",
        "            display_board(board)\n",
        "            print(\"It's a tie!\")\n",
        "            break\n",
        "\n",
        "        current_player = 'O' if current_player == 'X' else 'X'\n",
        "\n",
        "play_game()\n",
        "    "
      ],
      "metadata": {
        "id": "P-nMCyNjkBsI",
        "outputId": "aedc5427-5070-4d23-9c40-5ba00a6465bb",
        "colab": {
          "base_uri": "https://localhost:8080/"
        }
      },
      "execution_count": null,
      "outputs": [
        {
          "output_type": "stream",
          "name": "stdout",
          "text": [
            "  |   |  \n",
            " __ __ __\n",
            "\n",
            "  |   |  \n",
            " __ __ __\n",
            "\n",
            "  |   |  \n",
            " __ __ __\n",
            "\n",
            "Player X's trun\n"
          ]
        }
      ]
    }
  ],
  "metadata": {
    "colab": {
      "name": "Welcome To Colaboratory",
      "provenance": [],
      "include_colab_link": true
    },
    "kernelspec": {
      "display_name": "Python 3",
      "name": "python3"
    }
  },
  "nbformat": 4,
  "nbformat_minor": 0
}